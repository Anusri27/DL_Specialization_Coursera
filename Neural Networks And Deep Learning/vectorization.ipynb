{
  "nbformat": 4,
  "nbformat_minor": 0,
  "metadata": {
    "colab": {
      "name": "vectorization.ipynb",
      "provenance": [],
      "collapsed_sections": []
    },
    "kernelspec": {
      "name": "python3",
      "display_name": "Python 3"
    }
  },
  "cells": [
    {
      "cell_type": "code",
      "metadata": {
        "id": "GAZUKPZV-2iW",
        "colab_type": "code",
        "colab": {
          "base_uri": "https://localhost:8080/",
          "height": 34
        },
        "outputId": "a4b4fcf5-84a6-4742-c39f-c0dfe5cd3979"
      },
      "source": [
        "import numpy as np\n",
        "a=np.array([1,2,3,4])\n",
        "print(a)"
      ],
      "execution_count": 1,
      "outputs": [
        {
          "output_type": "stream",
          "text": [
            "[1 2 3 4]\n"
          ],
          "name": "stdout"
        }
      ]
    },
    {
      "cell_type": "code",
      "metadata": {
        "id": "gfwDhSXh_fll",
        "colab_type": "code",
        "colab": {
          "base_uri": "https://localhost:8080/",
          "height": 85
        },
        "outputId": "8e2733ac-17d1-42d3-fa82-fbc3e9b34e21"
      },
      "source": [
        "import time\n",
        "a=np.random.rand(100000)\n",
        "b=np.random.rand(100000)\n",
        "tic=time.time()\n",
        "c=np.dot(a,b)  #dot product\n",
        "toc=time.time()\n",
        "\n",
        "print(c)\n",
        "print(\"Vectorised version :\" + str(1000*(toc-tic)) + \"ms\")\n",
        "\n",
        "c=0\n",
        "tic=time.time()\n",
        "for i in range(100000):\n",
        "  c+= a[i]*b[i]\n",
        "toc=time.time()\n",
        "print(c)\n",
        "print(\"for loop :\" + str(1000*(toc-tic)) + \"ms\")"
      ],
      "execution_count": 8,
      "outputs": [
        {
          "output_type": "stream",
          "text": [
            "25041.282624969623\n",
            "Vectorised version :0.31185150146484375ms\n",
            "25041.282624970012\n",
            "for loop :122.95222282409668ms\n"
          ],
          "name": "stdout"
        }
      ]
    },
    {
      "cell_type": "code",
      "metadata": {
        "id": "yOslq61kATSe",
        "colab_type": "code",
        "colab": {}
      },
      "source": [
        ""
      ],
      "execution_count": 0,
      "outputs": []
    }
  ]
}